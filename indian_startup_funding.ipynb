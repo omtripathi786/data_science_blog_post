{
 "cells": [
  {
   "cell_type": "markdown",
   "metadata": {
    "_cell_guid": "24f05b91-5f10-478e-b78b-bed486850ae6",
    "_uuid": "2185a93b573cb18c82a368d08684fb4d997a9699",
    "collapsed": true
   },
   "source": [
    "<h1>Welcome to my nootebook</h1>\n",
    "\n",
    "The nootebook objective is to analyse and try to understand some Indians Startup Patterns.<br>\n",
    "\n",
    "Some informations about dataset below\n"
   ]
  },
  {
   "cell_type": "markdown",
   "metadata": {
    "_cell_guid": "aba75a2e-1a7d-4ef0-a207-3a9d64d34a9b",
    "_uuid": "7386bd91b80950d67fead54d4c97ebf646857495"
   },
   "source": [
    "\n",
    "\n",
    "<h2>Content</h2><br>\n",
    "This dataset has funding information of the Indian startups from January 2015 to August 2017. It includes columns with the date funded, the city the startup is based out of, the names of the funders, and the amount invested (in USD).<br>\n",
    "\n",
    "\n",
    "<h2>Inspiration</h2>\n",
    "Possible questions which could be answered are:<br>\n",
    "- How does the funding ecosystem change with time?<br>\n",
    "- Do cities play a major role in funding?<br>\n",
    "- Which industries are favored by investors for funding?<br>\n",
    "- Who are the important investors in the Indian Ecosystem?<br>\n",
    "- How much funds does startups generally get in India?<br>"
   ]
  },
  {
   "cell_type": "markdown",
   "metadata": {
    "_cell_guid": "022bf641-587c-4fd3-b6d5-6630eb22efd9",
    "_uuid": "b26fe75690f036c4828c2f41af2f211cf9848c03"
   },
   "source": [
    "<h2>Importing the librarys</h2>"
   ]
  },
  {
   "cell_type": "code",
   "execution_count": 1,
   "metadata": {
    "_cell_guid": "d50d9267-7beb-4836-afef-d924eb68647c",
    "_uuid": "0f61d735b83278344e12fecc06298b7f99cd1e63"
   },
   "outputs": [],
   "source": [
    "import pandas as pd\n",
    "import numpy as np\n",
    "import matplotlib.pyplot as plt\n",
    "import seaborn as sns\n",
    "\n"
   ]
  },
  {
   "cell_type": "markdown",
   "metadata": {
    "_cell_guid": "e8ce3edc-a75a-4b60-af4f-9e4ea8531d90",
    "_uuid": "715a6efdd2a892683d090586c0a26b1b1736f9a2"
   },
   "source": [
    "<h2>Importing the data</h2>"
   ]
  },
  {
   "cell_type": "code",
   "execution_count": 2,
   "metadata": {
    "_cell_guid": "af3e99c8-6e62-42a0-abcd-18da07c4c571",
    "_uuid": "a432a7a4e865772ee5bf47f02d4bbc5b60780636"
   },
   "outputs": [],
   "source": [
    "df_startups = pd.read_csv(\"startup_funding.csv\",index_col=0)"
   ]
  },
  {
   "cell_type": "markdown",
   "metadata": {
    "_cell_guid": "656f0cdf-c20b-49e6-8783-a7a0488618c4",
    "_uuid": "1ef31d7caec16bf6851cc24291685c3b3d346a25"
   },
   "source": [
    "<h2>Knowning our data</h2>"
   ]
  },
  {
   "cell_type": "code",
   "execution_count": 3,
   "metadata": {
    "_cell_guid": "c9ccaa48-2735-4b2e-8514-b1f07299073d",
    "_uuid": "ac85c313e4f283cdd25a5585dd3a783e2d69afbb"
   },
   "outputs": [
    {
     "name": "stdout",
     "output_type": "stream",
     "text": [
      "(2372, 9)\n",
      "Date                 695\n",
      "StartupName         2001\n",
      "IndustryVertical     743\n",
      "SubVertical         1364\n",
      "CityLocation          71\n",
      "InvestorsName       1885\n",
      "InvestmentType         7\n",
      "AmountInUSD          328\n",
      "Remarks               69\n",
      "dtype: int64\n",
      "<class 'pandas.core.frame.DataFrame'>\n",
      "Int64Index: 2372 entries, 0 to 2371\n",
      "Data columns (total 9 columns):\n",
      "Date                2372 non-null object\n",
      "StartupName         2372 non-null object\n",
      "IndustryVertical    2201 non-null object\n",
      "SubVertical         1436 non-null object\n",
      "CityLocation        2193 non-null object\n",
      "InvestorsName       2364 non-null object\n",
      "InvestmentType      2371 non-null object\n",
      "AmountInUSD         1525 non-null object\n",
      "Remarks             419 non-null object\n",
      "dtypes: object(9)\n",
      "memory usage: 185.3+ KB\n",
      "None\n"
     ]
    }
   ],
   "source": [
    "print(df_startups.shape)\n",
    "print(df_startups.nunique())\n",
    "print(df_startups.info())"
   ]
  },
  {
   "cell_type": "markdown",
   "metadata": {
    "_cell_guid": "2c055c29-95d3-4ac9-97c9-76ef52eae30b",
    "_uuid": "2ac59f085527927b9d359bc260f29bbd22123d3e"
   },
   "source": [
    "<h2>Looking the NaN's</h2>"
   ]
  },
  {
   "cell_type": "code",
   "execution_count": 4,
   "metadata": {
    "_cell_guid": "91b2a0b0-1e52-45ca-9a99-a53eb7085085",
    "_uuid": "cdec0647c39ecfbf475891b3f11ac241daccafc4"
   },
   "outputs": [
    {
     "data": {
      "text/html": [
       "<div>\n",
       "<style scoped>\n",
       "    .dataframe tbody tr th:only-of-type {\n",
       "        vertical-align: middle;\n",
       "    }\n",
       "\n",
       "    .dataframe tbody tr th {\n",
       "        vertical-align: top;\n",
       "    }\n",
       "\n",
       "    .dataframe thead th {\n",
       "        text-align: right;\n",
       "    }\n",
       "</style>\n",
       "<table border=\"1\" class=\"dataframe\">\n",
       "  <thead>\n",
       "    <tr style=\"text-align: right;\">\n",
       "      <th></th>\n",
       "      <th>Total</th>\n",
       "      <th>Percent %</th>\n",
       "    </tr>\n",
       "  </thead>\n",
       "  <tbody>\n",
       "    <tr>\n",
       "      <th>Remarks</th>\n",
       "      <td>1953</td>\n",
       "      <td>82.335582</td>\n",
       "    </tr>\n",
       "    <tr>\n",
       "      <th>SubVertical</th>\n",
       "      <td>936</td>\n",
       "      <td>39.460371</td>\n",
       "    </tr>\n",
       "    <tr>\n",
       "      <th>AmountInUSD</th>\n",
       "      <td>847</td>\n",
       "      <td>35.708263</td>\n",
       "    </tr>\n",
       "    <tr>\n",
       "      <th>CityLocation</th>\n",
       "      <td>179</td>\n",
       "      <td>7.546374</td>\n",
       "    </tr>\n",
       "    <tr>\n",
       "      <th>IndustryVertical</th>\n",
       "      <td>171</td>\n",
       "      <td>7.209106</td>\n",
       "    </tr>\n",
       "    <tr>\n",
       "      <th>InvestorsName</th>\n",
       "      <td>8</td>\n",
       "      <td>0.337268</td>\n",
       "    </tr>\n",
       "    <tr>\n",
       "      <th>InvestmentType</th>\n",
       "      <td>1</td>\n",
       "      <td>0.042159</td>\n",
       "    </tr>\n",
       "    <tr>\n",
       "      <th>StartupName</th>\n",
       "      <td>0</td>\n",
       "      <td>0.000000</td>\n",
       "    </tr>\n",
       "    <tr>\n",
       "      <th>Date</th>\n",
       "      <td>0</td>\n",
       "      <td>0.000000</td>\n",
       "    </tr>\n",
       "  </tbody>\n",
       "</table>\n",
       "</div>"
      ],
      "text/plain": [
       "                  Total  Percent %\n",
       "Remarks            1953  82.335582\n",
       "SubVertical         936  39.460371\n",
       "AmountInUSD         847  35.708263\n",
       "CityLocation        179   7.546374\n",
       "IndustryVertical    171   7.209106\n",
       "InvestorsName         8   0.337268\n",
       "InvestmentType        1   0.042159\n",
       "StartupName           0   0.000000\n",
       "Date                  0   0.000000"
      ]
     },
     "execution_count": 4,
     "metadata": {},
     "output_type": "execute_result"
    }
   ],
   "source": [
    "# missing data \n",
    "total = df_startups.isnull().sum().sort_values(ascending = False)\n",
    "percent = ((df_startups.isnull().sum()/df_startups.isnull().count())*100).sort_values(ascending = False)\n",
    "missing_data = pd.concat([total, percent], axis=1, keys=['Total', 'Percent %'])\n",
    "missing_data"
   ]
  },
  {
   "cell_type": "markdown",
   "metadata": {
    "_cell_guid": "d8d3e6b2-6300-4db3-a588-dd303daf5027",
    "_uuid": "c1de0eab645e850749e4ee0faad76f5420292b6f"
   },
   "source": [
    "<h2>Looking the data</h2>\n",
    "<p>As remarks has to many nul value so it will be better if we delete them</p>"
   ]
  },
  {
   "cell_type": "code",
   "execution_count": 5,
   "metadata": {
    "_cell_guid": "4ed9675d-ba8d-40d6-a200-53746dc69269",
    "_uuid": "74644575c9f7a12fbcd39babe773202c54920823"
   },
   "outputs": [
    {
     "data": {
      "text/html": [
       "<div>\n",
       "<style scoped>\n",
       "    .dataframe tbody tr th:only-of-type {\n",
       "        vertical-align: middle;\n",
       "    }\n",
       "\n",
       "    .dataframe tbody tr th {\n",
       "        vertical-align: top;\n",
       "    }\n",
       "\n",
       "    .dataframe thead th {\n",
       "        text-align: right;\n",
       "    }\n",
       "</style>\n",
       "<table border=\"1\" class=\"dataframe\">\n",
       "  <thead>\n",
       "    <tr style=\"text-align: right;\">\n",
       "      <th></th>\n",
       "      <th>Date</th>\n",
       "      <th>StartupName</th>\n",
       "      <th>IndustryVertical</th>\n",
       "      <th>SubVertical</th>\n",
       "      <th>CityLocation</th>\n",
       "      <th>InvestorsName</th>\n",
       "      <th>InvestmentType</th>\n",
       "      <th>AmountInUSD</th>\n",
       "    </tr>\n",
       "    <tr>\n",
       "      <th>SNo</th>\n",
       "      <th></th>\n",
       "      <th></th>\n",
       "      <th></th>\n",
       "      <th></th>\n",
       "      <th></th>\n",
       "      <th></th>\n",
       "      <th></th>\n",
       "      <th></th>\n",
       "    </tr>\n",
       "  </thead>\n",
       "  <tbody>\n",
       "    <tr>\n",
       "      <th>0</th>\n",
       "      <td>01-08-17</td>\n",
       "      <td>TouchKin</td>\n",
       "      <td>Technology</td>\n",
       "      <td>Predictive Care Platform</td>\n",
       "      <td>Bangalore</td>\n",
       "      <td>Kae Capital</td>\n",
       "      <td>Private Equity</td>\n",
       "      <td>1,300,000</td>\n",
       "    </tr>\n",
       "    <tr>\n",
       "      <th>1</th>\n",
       "      <td>02-08-17</td>\n",
       "      <td>Ethinos</td>\n",
       "      <td>Technology</td>\n",
       "      <td>Digital Marketing Agency</td>\n",
       "      <td>Mumbai</td>\n",
       "      <td>Triton Investment Advisors</td>\n",
       "      <td>Private Equity</td>\n",
       "      <td>NaN</td>\n",
       "    </tr>\n",
       "    <tr>\n",
       "      <th>2</th>\n",
       "      <td>02-08-17</td>\n",
       "      <td>Leverage Edu</td>\n",
       "      <td>Consumer Internet</td>\n",
       "      <td>Online platform for Higher Education Services</td>\n",
       "      <td>New Delhi</td>\n",
       "      <td>Kashyap Deorah, Anand Sankeshwar, Deepak Jain,...</td>\n",
       "      <td>Seed Funding</td>\n",
       "      <td>NaN</td>\n",
       "    </tr>\n",
       "    <tr>\n",
       "      <th>3</th>\n",
       "      <td>02-08-17</td>\n",
       "      <td>Zepo</td>\n",
       "      <td>Consumer Internet</td>\n",
       "      <td>DIY Ecommerce platform</td>\n",
       "      <td>Mumbai</td>\n",
       "      <td>Kunal Shah, LetsVenture, Anupam Mittal, Hetal ...</td>\n",
       "      <td>Seed Funding</td>\n",
       "      <td>500,000</td>\n",
       "    </tr>\n",
       "    <tr>\n",
       "      <th>4</th>\n",
       "      <td>02-08-17</td>\n",
       "      <td>Click2Clinic</td>\n",
       "      <td>Consumer Internet</td>\n",
       "      <td>healthcare service aggregator</td>\n",
       "      <td>Hyderabad</td>\n",
       "      <td>Narottam Thudi, Shireesh Palle</td>\n",
       "      <td>Seed Funding</td>\n",
       "      <td>850,000</td>\n",
       "    </tr>\n",
       "  </tbody>\n",
       "</table>\n",
       "</div>"
      ],
      "text/plain": [
       "         Date   StartupName   IndustryVertical  \\\n",
       "SNo                                              \n",
       "0    01-08-17      TouchKin         Technology   \n",
       "1    02-08-17       Ethinos         Technology   \n",
       "2    02-08-17  Leverage Edu  Consumer Internet   \n",
       "3    02-08-17          Zepo  Consumer Internet   \n",
       "4    02-08-17  Click2Clinic  Consumer Internet   \n",
       "\n",
       "                                       SubVertical CityLocation  \\\n",
       "SNo                                                               \n",
       "0                         Predictive Care Platform    Bangalore   \n",
       "1                         Digital Marketing Agency       Mumbai   \n",
       "2    Online platform for Higher Education Services    New Delhi   \n",
       "3                           DIY Ecommerce platform       Mumbai   \n",
       "4                    healthcare service aggregator    Hyderabad   \n",
       "\n",
       "                                         InvestorsName  InvestmentType  \\\n",
       "SNo                                                                      \n",
       "0                                          Kae Capital  Private Equity   \n",
       "1                           Triton Investment Advisors  Private Equity   \n",
       "2    Kashyap Deorah, Anand Sankeshwar, Deepak Jain,...    Seed Funding   \n",
       "3    Kunal Shah, LetsVenture, Anupam Mittal, Hetal ...    Seed Funding   \n",
       "4                       Narottam Thudi, Shireesh Palle    Seed Funding   \n",
       "\n",
       "    AmountInUSD  \n",
       "SNo              \n",
       "0     1,300,000  \n",
       "1           NaN  \n",
       "2           NaN  \n",
       "3       500,000  \n",
       "4       850,000  "
      ]
     },
     "execution_count": 5,
     "metadata": {},
     "output_type": "execute_result"
    }
   ],
   "source": [
    "del df_startups[\"Remarks\"]\n",
    "df_startups.head()"
   ]
  },
  {
   "cell_type": "code",
   "execution_count": 6,
   "metadata": {
    "_uuid": "c279f3e5de09af6ba43972ec4ce8a59889974088"
   },
   "outputs": [
    {
     "data": {
      "text/plain": [
       "(2372, 8)"
      ]
     },
     "execution_count": 6,
     "metadata": {},
     "output_type": "execute_result"
    }
   ],
   "source": [
    "df_startups.shape"
   ]
  },
  {
   "cell_type": "markdown",
   "metadata": {},
   "source": [
    "<h2>Fix the date column data</h2> "
   ]
  },
  {
   "cell_type": "code",
   "execution_count": 7,
   "metadata": {},
   "outputs": [
    {
     "data": {
      "text/html": [
       "<div>\n",
       "<style scoped>\n",
       "    .dataframe tbody tr th:only-of-type {\n",
       "        vertical-align: middle;\n",
       "    }\n",
       "\n",
       "    .dataframe tbody tr th {\n",
       "        vertical-align: top;\n",
       "    }\n",
       "\n",
       "    .dataframe thead th {\n",
       "        text-align: right;\n",
       "    }\n",
       "</style>\n",
       "<table border=\"1\" class=\"dataframe\">\n",
       "  <thead>\n",
       "    <tr style=\"text-align: right;\">\n",
       "      <th></th>\n",
       "      <th>Date</th>\n",
       "      <th>StartupName</th>\n",
       "      <th>IndustryVertical</th>\n",
       "      <th>SubVertical</th>\n",
       "      <th>CityLocation</th>\n",
       "      <th>InvestorsName</th>\n",
       "      <th>InvestmentType</th>\n",
       "      <th>AmountInUSD</th>\n",
       "    </tr>\n",
       "    <tr>\n",
       "      <th>SNo</th>\n",
       "      <th></th>\n",
       "      <th></th>\n",
       "      <th></th>\n",
       "      <th></th>\n",
       "      <th></th>\n",
       "      <th></th>\n",
       "      <th></th>\n",
       "      <th></th>\n",
       "    </tr>\n",
       "  </thead>\n",
       "  <tbody>\n",
       "    <tr>\n",
       "      <th>0</th>\n",
       "      <td>2017-01-08</td>\n",
       "      <td>TouchKin</td>\n",
       "      <td>Technology</td>\n",
       "      <td>Predictive Care Platform</td>\n",
       "      <td>Bangalore</td>\n",
       "      <td>Kae Capital</td>\n",
       "      <td>Private Equity</td>\n",
       "      <td>1,300,000</td>\n",
       "    </tr>\n",
       "    <tr>\n",
       "      <th>1</th>\n",
       "      <td>2017-02-08</td>\n",
       "      <td>Ethinos</td>\n",
       "      <td>Technology</td>\n",
       "      <td>Digital Marketing Agency</td>\n",
       "      <td>Mumbai</td>\n",
       "      <td>Triton Investment Advisors</td>\n",
       "      <td>Private Equity</td>\n",
       "      <td>NaN</td>\n",
       "    </tr>\n",
       "    <tr>\n",
       "      <th>2</th>\n",
       "      <td>2017-02-08</td>\n",
       "      <td>Leverage Edu</td>\n",
       "      <td>Consumer Internet</td>\n",
       "      <td>Online platform for Higher Education Services</td>\n",
       "      <td>New Delhi</td>\n",
       "      <td>Kashyap Deorah, Anand Sankeshwar, Deepak Jain,...</td>\n",
       "      <td>Seed Funding</td>\n",
       "      <td>NaN</td>\n",
       "    </tr>\n",
       "    <tr>\n",
       "      <th>3</th>\n",
       "      <td>2017-02-08</td>\n",
       "      <td>Zepo</td>\n",
       "      <td>Consumer Internet</td>\n",
       "      <td>DIY Ecommerce platform</td>\n",
       "      <td>Mumbai</td>\n",
       "      <td>Kunal Shah, LetsVenture, Anupam Mittal, Hetal ...</td>\n",
       "      <td>Seed Funding</td>\n",
       "      <td>500,000</td>\n",
       "    </tr>\n",
       "    <tr>\n",
       "      <th>4</th>\n",
       "      <td>2017-02-08</td>\n",
       "      <td>Click2Clinic</td>\n",
       "      <td>Consumer Internet</td>\n",
       "      <td>healthcare service aggregator</td>\n",
       "      <td>Hyderabad</td>\n",
       "      <td>Narottam Thudi, Shireesh Palle</td>\n",
       "      <td>Seed Funding</td>\n",
       "      <td>850,000</td>\n",
       "    </tr>\n",
       "  </tbody>\n",
       "</table>\n",
       "</div>"
      ],
      "text/plain": [
       "          Date   StartupName   IndustryVertical  \\\n",
       "SNo                                               \n",
       "0   2017-01-08      TouchKin         Technology   \n",
       "1   2017-02-08       Ethinos         Technology   \n",
       "2   2017-02-08  Leverage Edu  Consumer Internet   \n",
       "3   2017-02-08          Zepo  Consumer Internet   \n",
       "4   2017-02-08  Click2Clinic  Consumer Internet   \n",
       "\n",
       "                                       SubVertical CityLocation  \\\n",
       "SNo                                                               \n",
       "0                         Predictive Care Platform    Bangalore   \n",
       "1                         Digital Marketing Agency       Mumbai   \n",
       "2    Online platform for Higher Education Services    New Delhi   \n",
       "3                           DIY Ecommerce platform       Mumbai   \n",
       "4                    healthcare service aggregator    Hyderabad   \n",
       "\n",
       "                                         InvestorsName  InvestmentType  \\\n",
       "SNo                                                                      \n",
       "0                                          Kae Capital  Private Equity   \n",
       "1                           Triton Investment Advisors  Private Equity   \n",
       "2    Kashyap Deorah, Anand Sankeshwar, Deepak Jain,...    Seed Funding   \n",
       "3    Kunal Shah, LetsVenture, Anupam Mittal, Hetal ...    Seed Funding   \n",
       "4                       Narottam Thudi, Shireesh Palle    Seed Funding   \n",
       "\n",
       "    AmountInUSD  \n",
       "SNo              \n",
       "0     1,300,000  \n",
       "1           NaN  \n",
       "2           NaN  \n",
       "3       500,000  \n",
       "4       850,000  "
      ]
     },
     "execution_count": 7,
     "metadata": {},
     "output_type": "execute_result"
    }
   ],
   "source": [
    "df_startups['Date'] = pd.to_datetime(df_startups.Date)\n",
    "df_startups.head()"
   ]
  },
  {
   "cell_type": "markdown",
   "metadata": {},
   "source": [
    "<h2>Ques 1: How does the funding ecosystem change with time ?</h2>"
   ]
  },
  {
   "cell_type": "code",
   "execution_count": 76,
   "metadata": {},
   "outputs": [
    {
     "name": "stdout",
     "output_type": "stream",
     "text": [
      "Number of funding per month in decreasing order(Top 20)\n",
      " 201604    102\n",
      "201601    100\n",
      "201509     98\n",
      "201608     95\n",
      "201507     94\n",
      "201606     93\n",
      "201511     89\n",
      "201503     85\n",
      "201508     83\n",
      "201506     82\n",
      "Name: yearmonth, dtype: int64\n"
     ]
    }
   ],
   "source": [
    "df_startups[\"yearmonth\"] = (pd.to_datetime(df_startups['Date']).dt.year*100)+(pd.to_datetime(df_startups['Date']).dt.month)\n",
    "temp = df_startups['yearmonth'].value_counts().sort_values(ascending = False).head(10)\n",
    "print(\"Number of funding per month in decreasing order(Top 20)\\n\",temp)\n",
    "year_month = df_startups['yearmonth'].value_counts()"
   ]
  },
  {
   "cell_type": "code",
   "execution_count": 28,
   "metadata": {},
   "outputs": [
    {
     "data": {
      "image/png": "[encoded data removed]",
      "text/plain": [
       "<Figure size 1080x576 with 1 Axes>"
      ]
     },
     "metadata": {},
     "output_type": "display_data"
    }
   ],
   "source": [
    "plt.figure(figsize=(15,8))\n",
    "sns.barplot(year_month.index, year_month.values, alpha=0.9)\n",
    "plt.xticks(rotation='vertical')\n",
    "plt.xlabel('Year-Month of transaction', fontsize=12)\n",
    "plt.ylabel('Number of fundings made', fontsize=12)\n",
    "plt.title(\"Year-Month - Number of Funding Distribution\", fontsize=16)\n",
    "plt.show()"
   ]
  },
  {
   "cell_type": "markdown",
   "metadata": {},
   "source": [
    "<b>Year-Month - Amount of Funding distribution<b>"
   ]
  },
  {
   "cell_type": "code",
   "execution_count": 34,
   "metadata": {},
   "outputs": [
    {
     "data": {
      "image/png": "[encoded data removed]",
      "text/plain": [
       "<Figure size 1080x576 with 1 Axes>"
      ]
     },
     "metadata": {},
     "output_type": "display_data"
    }
   ],
   "source": [
    "#Now convert the string \"AmountInUSD\" into numeric\n",
    "df_startups[\"AmountInUSD\"] = df_startups[\"AmountInUSD\"].apply(lambda x: float(str(x).replace(\",\",\"\")))\n",
    "df_startups[\"AmountInUSD\"] = pd.to_numeric(df_startups[\"AmountInUSD\"])\n",
    "\n",
    "plt.figure(figsize=(15,8))\n",
    "sns.barplot(df_startups['yearmonth'], df_startups['AmountInUSD'], alpha=0.9)\n",
    "plt.xticks(rotation='vertical')\n",
    "plt.xlabel('YearMonth', fontsize=12)\n",
    "plt.ylabel('Amonut Of Investments', fontsize=12)\n",
    "plt.title(\"YearMonth - Number of fundings distribution\", fontsize=16)\n",
    "plt.show()"
   ]
  },
  {
   "cell_type": "markdown",
   "metadata": {},
   "source": [
    "<p>As we can see that startups got more funding in January 2016(Total funding in January 2016 are 104). Above visualization shows how funding varies from one month to another.</p>\n",
    "<p>goverment of india launched <b>Digitial India</b> Campaign on July 2015 see that funding got increese from that time.\n",
    "simliar chnages we can see when Goverment of india started the <b>startup india</b> intiative on jaunary 2016 where startup funding got incresed by and reaches at its peek by feb 2016.</p>\n",
    "<p>one intresting fact we can see during the time of <b>demonetization</b> nov 2017 onwards funding got decresse signifinctly.</p>"
   ]
  },
  {
   "cell_type": "markdown",
   "metadata": {},
   "source": [
    "<h2>Ques 2 : How much funds does startups generally get in India ?(maximum funding, minimum funding , average funding and number of fundings)</h2>"
   ]
  },
  {
   "cell_type": "markdown",
   "metadata": {},
   "source": [
    "<h4>2.1:- Maximum funding to a Startups</h4>"
   ]
  },
  {
   "cell_type": "code",
   "execution_count": 60,
   "metadata": {},
   "outputs": [
    {
     "name": "stdout",
     "output_type": "stream",
     "text": [
      "Maximum funding to a Startups is :  1400000000.0\n"
     ]
    },
    {
     "data": {
      "text/html": [
       "<div>\n",
       "<style scoped>\n",
       "    .dataframe tbody tr th:only-of-type {\n",
       "        vertical-align: middle;\n",
       "    }\n",
       "\n",
       "    .dataframe tbody tr th {\n",
       "        vertical-align: top;\n",
       "    }\n",
       "\n",
       "    .dataframe thead th {\n",
       "        text-align: right;\n",
       "    }\n",
       "</style>\n",
       "<table border=\"1\" class=\"dataframe\">\n",
       "  <thead>\n",
       "    <tr style=\"text-align: right;\">\n",
       "      <th></th>\n",
       "      <th>Date</th>\n",
       "      <th>StartupName</th>\n",
       "      <th>IndustryVertical</th>\n",
       "      <th>SubVertical</th>\n",
       "      <th>CityLocation</th>\n",
       "      <th>InvestorsName</th>\n",
       "      <th>InvestmentType</th>\n",
       "      <th>AmountInUSD</th>\n",
       "      <th>yearmonth</th>\n",
       "    </tr>\n",
       "    <tr>\n",
       "      <th>SNo</th>\n",
       "      <th></th>\n",
       "      <th></th>\n",
       "      <th></th>\n",
       "      <th></th>\n",
       "      <th></th>\n",
       "      <th></th>\n",
       "      <th></th>\n",
       "      <th></th>\n",
       "      <th></th>\n",
       "    </tr>\n",
       "  </thead>\n",
       "  <tbody>\n",
       "    <tr>\n",
       "      <th>158</th>\n",
       "      <td>2017-05-18</td>\n",
       "      <td>Paytm</td>\n",
       "      <td>ECommerce</td>\n",
       "      <td>Mobile Wallet &amp; ECommerce platform</td>\n",
       "      <td>Bangalore</td>\n",
       "      <td>SoftBank Group</td>\n",
       "      <td>Private Equity</td>\n",
       "      <td>1.400000e+09</td>\n",
       "      <td>201705</td>\n",
       "    </tr>\n",
       "    <tr>\n",
       "      <th>217</th>\n",
       "      <td>2017-04-14</td>\n",
       "      <td>Ola Cabs</td>\n",
       "      <td>Consumer Internet</td>\n",
       "      <td>Cab Aggregator App</td>\n",
       "      <td>Bangalore</td>\n",
       "      <td>SIMI Pacific Pte</td>\n",
       "      <td>Private Equity</td>\n",
       "      <td>2.600000e+08</td>\n",
       "      <td>201704</td>\n",
       "    </tr>\n",
       "    <tr>\n",
       "      <th>234</th>\n",
       "      <td>2017-04-24</td>\n",
       "      <td>Oyo Rooms</td>\n",
       "      <td>Consumer Internet</td>\n",
       "      <td>Branded Budget Hotels Aggregator</td>\n",
       "      <td>Gurgaon</td>\n",
       "      <td>SoftBank Vision Fund, Lightspeed Venture Partn...</td>\n",
       "      <td>Private Equity</td>\n",
       "      <td>2.500000e+08</td>\n",
       "      <td>201704</td>\n",
       "    </tr>\n",
       "    <tr>\n",
       "      <th>252</th>\n",
       "      <td>2017-01-03</td>\n",
       "      <td>Ola</td>\n",
       "      <td>Consumer Internet</td>\n",
       "      <td>App based cab aggregator</td>\n",
       "      <td>Bangalore</td>\n",
       "      <td>SoftBank Group Corp</td>\n",
       "      <td>Private Equity</td>\n",
       "      <td>3.300000e+08</td>\n",
       "      <td>201701</td>\n",
       "    </tr>\n",
       "    <tr>\n",
       "      <th>294</th>\n",
       "      <td>2017-03-21</td>\n",
       "      <td>Flipkart</td>\n",
       "      <td>eCommerce</td>\n",
       "      <td>ECommerce Marketplace</td>\n",
       "      <td>Bangalore</td>\n",
       "      <td>Microsoft, eBay, Tencent Holdings</td>\n",
       "      <td>Private Equity</td>\n",
       "      <td>1.400000e+09</td>\n",
       "      <td>201703</td>\n",
       "    </tr>\n",
       "    <tr>\n",
       "      <th>1572</th>\n",
       "      <td>2015-11-18</td>\n",
       "      <td>Ola</td>\n",
       "      <td>Car Aggregator &amp; Retail Mobile App</td>\n",
       "      <td>NaN</td>\n",
       "      <td>Bangalore</td>\n",
       "      <td>Baillie Gifford, Falcon Edge Capital, Tiger Gl...</td>\n",
       "      <td>Private Equity</td>\n",
       "      <td>5.000000e+08</td>\n",
       "      <td>201511</td>\n",
       "    </tr>\n",
       "    <tr>\n",
       "      <th>1743</th>\n",
       "      <td>2015-09-14</td>\n",
       "      <td>Ola Cabs</td>\n",
       "      <td>Cab rental Mobile app</td>\n",
       "      <td>NaN</td>\n",
       "      <td>Bangalore</td>\n",
       "      <td>Falcon Edge Capital, NY based Hedge Fund, Tige...</td>\n",
       "      <td>Private Equity</td>\n",
       "      <td>2.250000e+08</td>\n",
       "      <td>201509</td>\n",
       "    </tr>\n",
       "    <tr>\n",
       "      <th>1787</th>\n",
       "      <td>2015-09-29</td>\n",
       "      <td>Paytm</td>\n",
       "      <td>E-Commerce &amp; M-Commerce platform</td>\n",
       "      <td>NaN</td>\n",
       "      <td>New Delhi</td>\n",
       "      <td>Alibaba Group, Ant Financial</td>\n",
       "      <td>Private Equity</td>\n",
       "      <td>6.800000e+08</td>\n",
       "      <td>201509</td>\n",
       "    </tr>\n",
       "    <tr>\n",
       "      <th>1798</th>\n",
       "      <td>2015-01-08</td>\n",
       "      <td>Snapdeal</td>\n",
       "      <td>Ecommerce Marketplace</td>\n",
       "      <td>NaN</td>\n",
       "      <td>New Delhi</td>\n",
       "      <td>Alibaba, Foxconn, Softbank</td>\n",
       "      <td>Private Equity</td>\n",
       "      <td>5.000000e+08</td>\n",
       "      <td>201501</td>\n",
       "    </tr>\n",
       "    <tr>\n",
       "      <th>1976</th>\n",
       "      <td>2015-07-28</td>\n",
       "      <td>Flipkart.com</td>\n",
       "      <td>Online Marketplace</td>\n",
       "      <td>NaN</td>\n",
       "      <td>Bangalore</td>\n",
       "      <td>Steadview Capital and existing investors</td>\n",
       "      <td>Private Equity</td>\n",
       "      <td>7.000000e+08</td>\n",
       "      <td>201507</td>\n",
       "    </tr>\n",
       "    <tr>\n",
       "      <th>2148</th>\n",
       "      <td>2015-08-04</td>\n",
       "      <td>Olacabs</td>\n",
       "      <td>Cab Aggregator</td>\n",
       "      <td>NaN</td>\n",
       "      <td>Bangalore</td>\n",
       "      <td>DST Global, Steadview Capital, Tiger Global, A...</td>\n",
       "      <td>Private Equity</td>\n",
       "      <td>4.000000e+08</td>\n",
       "      <td>201508</td>\n",
       "    </tr>\n",
       "  </tbody>\n",
       "</table>\n",
       "</div>"
      ],
      "text/plain": [
       "           Date   StartupName                    IndustryVertical  \\\n",
       "SNo                                                                 \n",
       "158  2017-05-18         Paytm                           ECommerce   \n",
       "217  2017-04-14      Ola Cabs                   Consumer Internet   \n",
       "234  2017-04-24     Oyo Rooms                   Consumer Internet   \n",
       "252  2017-01-03           Ola                   Consumer Internet   \n",
       "294  2017-03-21      Flipkart                           eCommerce   \n",
       "1572 2015-11-18           Ola  Car Aggregator & Retail Mobile App   \n",
       "1743 2015-09-14      Ola Cabs               Cab rental Mobile app   \n",
       "1787 2015-09-29         Paytm    E-Commerce & M-Commerce platform   \n",
       "1798 2015-01-08      Snapdeal               Ecommerce Marketplace   \n",
       "1976 2015-07-28  Flipkart.com                  Online Marketplace   \n",
       "2148 2015-08-04       Olacabs                      Cab Aggregator   \n",
       "\n",
       "                             SubVertical CityLocation  \\\n",
       "SNo                                                     \n",
       "158   Mobile Wallet & ECommerce platform    Bangalore   \n",
       "217                   Cab Aggregator App    Bangalore   \n",
       "234     Branded Budget Hotels Aggregator      Gurgaon   \n",
       "252             App based cab aggregator    Bangalore   \n",
       "294                ECommerce Marketplace    Bangalore   \n",
       "1572                                 NaN    Bangalore   \n",
       "1743                                 NaN    Bangalore   \n",
       "1787                                 NaN    New Delhi   \n",
       "1798                                 NaN    New Delhi   \n",
       "1976                                 NaN    Bangalore   \n",
       "2148                                 NaN    Bangalore   \n",
       "\n",
       "                                          InvestorsName  InvestmentType  \\\n",
       "SNo                                                                       \n",
       "158                                      SoftBank Group  Private Equity   \n",
       "217                                    SIMI Pacific Pte  Private Equity   \n",
       "234   SoftBank Vision Fund, Lightspeed Venture Partn...  Private Equity   \n",
       "252                                 SoftBank Group Corp  Private Equity   \n",
       "294                   Microsoft, eBay, Tencent Holdings  Private Equity   \n",
       "1572  Baillie Gifford, Falcon Edge Capital, Tiger Gl...  Private Equity   \n",
       "1743  Falcon Edge Capital, NY based Hedge Fund, Tige...  Private Equity   \n",
       "1787                       Alibaba Group, Ant Financial  Private Equity   \n",
       "1798                         Alibaba, Foxconn, Softbank  Private Equity   \n",
       "1976           Steadview Capital and existing investors  Private Equity   \n",
       "2148  DST Global, Steadview Capital, Tiger Global, A...  Private Equity   \n",
       "\n",
       "       AmountInUSD  yearmonth  \n",
       "SNo                            \n",
       "158   1.400000e+09     201705  \n",
       "217   2.600000e+08     201704  \n",
       "234   2.500000e+08     201704  \n",
       "252   3.300000e+08     201701  \n",
       "294   1.400000e+09     201703  \n",
       "1572  5.000000e+08     201511  \n",
       "1743  2.250000e+08     201509  \n",
       "1787  6.800000e+08     201509  \n",
       "1798  5.000000e+08     201501  \n",
       "1976  7.000000e+08     201507  \n",
       "2148  4.000000e+08     201508  "
      ]
     },
     "execution_count": 60,
     "metadata": {},
     "output_type": "execute_result"
    }
   ],
   "source": [
    "print(\"Maximum funding to a Startups is : \",df_startups[\"AmountInUSD\"].dropna().sort_values().max())\n",
    "df_startups[df_startups.AmountInUSD > 200000000.0]"
   ]
  },
  {
   "cell_type": "code",
   "execution_count": 62,
   "metadata": {},
   "outputs": [
    {
     "name": "stdout",
     "output_type": "stream",
     "text": [
      "Minimum funding to a Startups is :  16000.0\n"
     ]
    },
    {
     "data": {
      "text/html": [
       "<div>\n",
       "<style scoped>\n",
       "    .dataframe tbody tr th:only-of-type {\n",
       "        vertical-align: middle;\n",
       "    }\n",
       "\n",
       "    .dataframe tbody tr th {\n",
       "        vertical-align: top;\n",
       "    }\n",
       "\n",
       "    .dataframe thead th {\n",
       "        text-align: right;\n",
       "    }\n",
       "</style>\n",
       "<table border=\"1\" class=\"dataframe\">\n",
       "  <thead>\n",
       "    <tr style=\"text-align: right;\">\n",
       "      <th></th>\n",
       "      <th>Date</th>\n",
       "      <th>StartupName</th>\n",
       "      <th>IndustryVertical</th>\n",
       "      <th>SubVertical</th>\n",
       "      <th>CityLocation</th>\n",
       "      <th>InvestorsName</th>\n",
       "      <th>InvestmentType</th>\n",
       "      <th>AmountInUSD</th>\n",
       "      <th>yearmonth</th>\n",
       "    </tr>\n",
       "    <tr>\n",
       "      <th>SNo</th>\n",
       "      <th></th>\n",
       "      <th></th>\n",
       "      <th></th>\n",
       "      <th></th>\n",
       "      <th></th>\n",
       "      <th></th>\n",
       "      <th></th>\n",
       "      <th></th>\n",
       "      <th></th>\n",
       "    </tr>\n",
       "  </thead>\n",
       "  <tbody>\n",
       "    <tr>\n",
       "      <th>2345</th>\n",
       "      <td>2015-01-19</td>\n",
       "      <td>Hostel Dunia</td>\n",
       "      <td>NaN</td>\n",
       "      <td>NaN</td>\n",
       "      <td>NaN</td>\n",
       "      <td>Hyderabad Angels (at Startup Heroes event)</td>\n",
       "      <td>Seed Funding</td>\n",
       "      <td>16000.0</td>\n",
       "      <td>201501</td>\n",
       "    </tr>\n",
       "    <tr>\n",
       "      <th>2346</th>\n",
       "      <td>2015-01-19</td>\n",
       "      <td>Play your sport</td>\n",
       "      <td>NaN</td>\n",
       "      <td>NaN</td>\n",
       "      <td>NaN</td>\n",
       "      <td>Hyderabad Angels (at Startup Heroes event)</td>\n",
       "      <td>Seed Funding</td>\n",
       "      <td>16000.0</td>\n",
       "      <td>201501</td>\n",
       "    </tr>\n",
       "    <tr>\n",
       "      <th>2347</th>\n",
       "      <td>2015-01-19</td>\n",
       "      <td>Yo Grad</td>\n",
       "      <td>NaN</td>\n",
       "      <td>NaN</td>\n",
       "      <td>NaN</td>\n",
       "      <td>Hyderabad Angels (at Startup Heroes event)</td>\n",
       "      <td>Seed Funding</td>\n",
       "      <td>16000.0</td>\n",
       "      <td>201501</td>\n",
       "    </tr>\n",
       "    <tr>\n",
       "      <th>2348</th>\n",
       "      <td>2015-01-19</td>\n",
       "      <td>Enabli</td>\n",
       "      <td>NaN</td>\n",
       "      <td>NaN</td>\n",
       "      <td>NaN</td>\n",
       "      <td>Hyderabad Angels (at Startup Heroes event)</td>\n",
       "      <td>Seed Funding</td>\n",
       "      <td>16000.0</td>\n",
       "      <td>201501</td>\n",
       "    </tr>\n",
       "    <tr>\n",
       "      <th>2349</th>\n",
       "      <td>2015-01-19</td>\n",
       "      <td>CBS</td>\n",
       "      <td>NaN</td>\n",
       "      <td>NaN</td>\n",
       "      <td>NaN</td>\n",
       "      <td>Hyderabad Angels (at Startup Heroes event)</td>\n",
       "      <td>Seed Funding</td>\n",
       "      <td>16000.0</td>\n",
       "      <td>201501</td>\n",
       "    </tr>\n",
       "  </tbody>\n",
       "</table>\n",
       "</div>"
      ],
      "text/plain": [
       "           Date      StartupName IndustryVertical SubVertical CityLocation  \\\n",
       "SNo                                                                          \n",
       "2345 2015-01-19     Hostel Dunia              NaN         NaN          NaN   \n",
       "2346 2015-01-19  Play your sport              NaN         NaN          NaN   \n",
       "2347 2015-01-19          Yo Grad              NaN         NaN          NaN   \n",
       "2348 2015-01-19           Enabli              NaN         NaN          NaN   \n",
       "2349 2015-01-19              CBS              NaN         NaN          NaN   \n",
       "\n",
       "                                   InvestorsName InvestmentType  AmountInUSD  \\\n",
       "SNo                                                                            \n",
       "2345  Hyderabad Angels (at Startup Heroes event)   Seed Funding      16000.0   \n",
       "2346  Hyderabad Angels (at Startup Heroes event)   Seed Funding      16000.0   \n",
       "2347  Hyderabad Angels (at Startup Heroes event)   Seed Funding      16000.0   \n",
       "2348  Hyderabad Angels (at Startup Heroes event)   Seed Funding      16000.0   \n",
       "2349  Hyderabad Angels (at Startup Heroes event)   Seed Funding      16000.0   \n",
       "\n",
       "      yearmonth  \n",
       "SNo              \n",
       "2345     201501  \n",
       "2346     201501  \n",
       "2347     201501  \n",
       "2348     201501  \n",
       "2349     201501  "
      ]
     },
     "execution_count": 62,
     "metadata": {},
     "output_type": "execute_result"
    }
   ],
   "source": [
    "print(\"Minimum funding to a Startups is : \",df_startups[\"AmountInUSD\"].dropna().sort_values().min())\n",
    "df_startups[df_startups.AmountInUSD == 16000.0]"
   ]
  },
  {
   "cell_type": "code",
   "execution_count": 64,
   "metadata": {},
   "outputs": [
    {
     "name": "stdout",
     "output_type": "stream",
     "text": [
      "On Average indian startups got funding of :  12031073.099016393\n"
     ]
    }
   ],
   "source": [
    "print(\"On Average indian startups got funding of : \",df_startups[\"AmountInUSD\"].dropna().sort_values().mean())"
   ]
  },
  {
   "cell_type": "code",
   "execution_count": 66,
   "metadata": {},
   "outputs": [
    {
     "name": "stdout",
     "output_type": "stream",
     "text": [
      "Total startups funded :  2001\n",
      "Swiggy           7\n",
      "UrbanClap        6\n",
      "Medinfi          5\n",
      "Paytm            5\n",
      "NoBroker         5\n",
      "Jugnoo           5\n",
      "Moglix           4\n",
      "YepMe            4\n",
      "Capital Float    4\n",
      "Voonik           4\n",
      "Name: StartupName, dtype: int64\n"
     ]
    },
    {
     "data": {
      "image/png": "[encoded data removed]",
      "text/plain": [
       "<Figure size 1080x576 with 1 Axes>"
      ]
     },
     "metadata": {},
     "output_type": "display_data"
    }
   ],
   "source": [
    "print(\"Total startups funded : \", len(df_startups[\"StartupName\"].unique()))\n",
    "print(df_startups[\"StartupName\"].value_counts().head(10))\n",
    "startupname = df_startups['StartupName'].value_counts().head(20)\n",
    "\n",
    "plt.figure(figsize=(15,8))\n",
    "sns.barplot(startupname.index, startupname.values, alpha=0.9)\n",
    "plt.xticks(rotation='vertical')\n",
    "plt.xlabel('Startup Name', fontsize=12)\n",
    "plt.ylabel('Number of fundings made', fontsize=12)\n",
    "plt.title(\"Number of funding a startup got\", fontsize=16)\n",
    "plt.show()\n"
   ]
  },
  {
   "cell_type": "markdown",
   "metadata": {},
   "source": [
    "<p>As we can see that Swiggy got maximum number of fundings(Total funding = 7) and total there are 2001 indian startups funded from January 2015 to August 2017. The above visulization is only for Top 20 startups.</p>"
   ]
  },
  {
   "cell_type": "markdown",
   "metadata": {},
   "source": [
    "<h2>Ques 3 : Which industries are favored by investors for funding ? (OR) Which type of companies got more easily funding ?</h2>"
   ]
  },
  {
   "cell_type": "code",
   "execution_count": 68,
   "metadata": {},
   "outputs": [
    {
     "name": "stdout",
     "output_type": "stream",
     "text": [
      "Consumer Internet    772\n",
      "Technology           313\n",
      "eCommerce            171\n",
      "ECommerce             53\n",
      "Healthcare            30\n",
      "Logistics             24\n",
      "Education             20\n",
      "Food & Beverage       19\n",
      "Finance                9\n",
      "Others                 6\n",
      "Name: IndustryVertical, dtype: int64\n"
     ]
    },
    {
     "data": {
      "image/png": "[encoded data removed]",
      "text/plain": [
       "<Figure size 1080x576 with 1 Axes>"
      ]
     },
     "metadata": {},
     "output_type": "display_data"
    }
   ],
   "source": [
    "industry = df_startups['IndustryVertical'].value_counts().head(10)\n",
    "print(industry)\n",
    "plt.figure(figsize=(15,8))\n",
    "sns.barplot(industry.index, industry.values, alpha=0.9)\n",
    "plt.xticks(rotation='vertical')\n",
    "plt.xlabel('Industry vertical of startups', fontsize=12)\n",
    "plt.ylabel('Number of fundings made', fontsize=12)\n",
    "plt.title(\"Industry vertical of startups with number of funding\", fontsize=16)\n",
    "plt.show()"
   ]
  },
  {
   "cell_type": "code",
   "execution_count": 71,
   "metadata": {},
   "outputs": [
    {
     "name": "stdout",
     "output_type": "stream",
     "text": [
      "Online Pharmacy                      9\n",
      "Food Delivery Platform               8\n",
      "Online lending platform              5\n",
      "Online Learning Platform             4\n",
      "Data Analytics platform              3\n",
      "Online Payment Gateway               3\n",
      "Fitness Mobile App                   3\n",
      "ECommerce Marketplace                3\n",
      "Online Furniture Renting Platform    2\n",
      "Cab Aggregation App                  2\n",
      "Name: SubVertical, dtype: int64\n"
     ]
    },
    {
     "data": {
      "image/png": "[encoded data removed]",
      "text/plain": [
       "<Figure size 1080x576 with 1 Axes>"
      ]
     },
     "metadata": {},
     "output_type": "display_data"
    }
   ],
   "source": [
    "industry = df_startups['SubVertical'].value_counts().head(10)\n",
    "print(industry)\n",
    "plt.figure(figsize=(15,8))\n",
    "sns.barplot(industry.index, industry.values, alpha=0.9)\n",
    "plt.xticks(rotation='vertical')\n",
    "plt.xlabel('Subvertical of startups', fontsize=12)\n",
    "plt.ylabel('Number of fundings made', fontsize=12)\n",
    "plt.title(\"Subvertical of startups with number of funding\", fontsize=16)\n",
    "plt.show()"
   ]
  },
  {
   "cell_type": "markdown",
   "metadata": {},
   "source": [
    "<h2>Ques 4 : Do cities play a major role in funding or which city has more start up ?</h2>"
   ]
  },
  {
   "cell_type": "code",
   "execution_count": 73,
   "metadata": {},
   "outputs": [
    {
     "name": "stdout",
     "output_type": "stream",
     "text": [
      "Bangalore    627\n",
      "Mumbai       446\n",
      "New Delhi    381\n",
      "Gurgaon      240\n",
      "Pune          84\n",
      "Noida         78\n",
      "Hyderabad     76\n",
      "Chennai       66\n",
      "Ahmedabad     35\n",
      "Jaipur        25\n",
      "Name: CityLocation, dtype: int64\n"
     ]
    },
    {
     "data": {
      "image/png": "[encoded data removed]",
      "text/plain": [
       "<Figure size 1080x576 with 1 Axes>"
      ]
     },
     "metadata": {},
     "output_type": "display_data"
    }
   ],
   "source": [
    "city = df_startups['CityLocation'].value_counts().head(10)\n",
    "print(city)\n",
    "plt.figure(figsize=(15,8))\n",
    "sns.barplot(city.index, city.values, alpha=0.9)\n",
    "plt.xticks(rotation='vertical')\n",
    "plt.xlabel('city location of startups', fontsize=12)\n",
    "plt.ylabel('Number of fundings made', fontsize=12)\n",
    "plt.title(\"city location of startups with number of funding\", fontsize=16)\n",
    "plt.show()"
   ]
  },
  {
   "cell_type": "markdown",
   "metadata": {},
   "source": [
    "<h2>Ques 5 : Who is the important investors in the Indian Ecosystem?</h2>"
   ]
  },
  {
   "cell_type": "code",
   "execution_count": 74,
   "metadata": {},
   "outputs": [
    {
     "name": "stdout",
     "output_type": "stream",
     "text": [
      "Undisclosed Investors       33\n",
      "Undisclosed investors       27\n",
      "Indian Angel Network        24\n",
      "Ratan Tata                  24\n",
      "Kalaari Capital             16\n",
      "Group of Angel Investors    15\n",
      "Sequoia Capital             14\n",
      "undisclosed investors       11\n",
      "Brand Capital               10\n",
      "RoundGlass Partners         10\n",
      "Name: InvestorsName, dtype: int64\n"
     ]
    },
    {
     "data": {
      "image/png": "[encoded data removed]",
      "text/plain": [
       "<Figure size 1080x576 with 1 Axes>"
      ]
     },
     "metadata": {},
     "output_type": "display_data"
    }
   ],
   "source": [
    "investors = df_startups['InvestorsName'].value_counts().head(10)\n",
    "print(investors)\n",
    "plt.figure(figsize=(15,8))\n",
    "sns.barplot(investors.index, investors.values, alpha=0.9)\n",
    "plt.xticks(rotation='vertical')\n",
    "plt.xlabel('Investors Names', fontsize=12)\n",
    "plt.ylabel('Number of fundings made', fontsize=12)\n",
    "plt.title(\"Investors Names with number of funding\", fontsize=16)\n",
    "plt.show()"
   ]
  },
  {
   "cell_type": "code",
   "execution_count": 77,
   "metadata": {},
   "outputs": [
    {
     "name": "stdout",
     "output_type": "stream",
     "text": [
      "Seed Funding      1271\n",
      "Private Equity    1066\n",
      "SeedFunding         30\n",
      "Crowd funding        1\n",
      "Crowd Funding        1\n",
      "PrivateEquity        1\n",
      "Debt Funding         1\n",
      "Name: InvestmentType, dtype: int64\n"
     ]
    },
    {
     "data": {
      "image/png": "[encoded data removed]",
      "text/plain": [
       "<Figure size 1080x576 with 1 Axes>"
      ]
     },
     "metadata": {},
     "output_type": "display_data"
    }
   ],
   "source": [
    "investment = df_startups['InvestmentType'].value_counts()\n",
    "print(investment)\n",
    "plt.figure(figsize=(15,8))\n",
    "sns.barplot(investment.index, investment.values, alpha=0.9)\n",
    "plt.xticks(rotation='vertical')\n",
    "plt.xlabel('Investment Type', fontsize=12)\n",
    "plt.ylabel('Number of fundings made', fontsize=12)\n",
    "plt.title(\"Investment Type with number of funding\", fontsize=16)\n",
    "plt.show()"
   ]
  }
 ],
 "metadata": {
  "kernelspec": {
   "display_name": "Python 3",
   "language": "python",
   "name": "python3"
  },
  "language_info": {
   "codemirror_mode": {
    "name": "ipython",
    "version": 3
   },
   "file_extension": ".py",
   "mimetype": "text/x-python",
   "name": "python",
   "nbconvert_exporter": "python",
   "pygments_lexer": "ipython3",
   "version": "3.6.5"
  }
 },
 "nbformat": 4,
 "nbformat_minor": 1
}
